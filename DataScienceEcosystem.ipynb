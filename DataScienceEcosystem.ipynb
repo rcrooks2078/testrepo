{
 "cells": [
  {
   "cell_type": "markdown",
   "id": "55ac920f-4071-4d5b-be52-78f8f289ce7c",
   "metadata": {},
   "source": [
    "# Data Science Tools and Ecosystem"
   ]
  },
  {
   "cell_type": "markdown",
   "id": "bc15171f-66cd-43c7-aed2-c2394650e10a",
   "metadata": {},
   "source": [
    "In this notebook, Data Science Tools and Ecosystem are summarized."
   ]
  },
  {
   "cell_type": "markdown",
   "id": "40d1a761-999f-47d9-8ab3-428083a3030d",
   "metadata": {},
   "source": [
    "Objectives:\n",
    "- List popular languages for Data Science\n",
    "- List popular librairies for Data Science\n",
    "- List popular tools for Data Science\n",
    "- Perform arithmetic expressions in Python"
   ]
  },
  {
   "cell_type": "markdown",
   "id": "a656412a-7dcf-4133-9e9c-b69c20d5b01c",
   "metadata": {},
   "source": [
    "Some of the popular languages that Data Scientists use are:\n",
    "1. SQL\n",
    "2. R\n",
    "3. Python"
   ]
  },
  {
   "cell_type": "markdown",
   "id": "98366fcf-8137-4da2-8c38-4cc884f3ea65",
   "metadata": {},
   "source": [
    "Some of the commonly used libraries used by Data Scientists include:\n",
    "1. keras\n",
    "2. pandas\n",
    "3. Scikit-learn\n",
    "4. NumPy"
   ]
  },
  {
   "cell_type": "markdown",
   "id": "b388a8e0-92f0-4329-b5dd-812347faf681",
   "metadata": {},
   "source": [
    "| Data Science Tools | \n",
    "| -------------| \n",
    "| ggplot2 |\n",
    "| orange |\n",
    "| Pandas |\n"
   ]
  },
  {
   "cell_type": "markdown",
   "id": "c68bc486-f79e-4c97-a8af-2ead49aa7d42",
   "metadata": {},
   "source": [
    "### Below are a few examples of evaluating arithmetic expressions in Python"
   ]
  },
  {
   "cell_type": "code",
   "execution_count": 2,
   "id": "bf7ade6f-4106-4191-b8e5-a4a214bc8844",
   "metadata": {},
   "outputs": [
    {
     "data": {
      "text/plain": [
       "17"
      ]
     },
     "execution_count": 2,
     "metadata": {},
     "output_type": "execute_result"
    }
   ],
   "source": [
    "# This a simple arithmetic expression to mutiply then add integers\n",
    "(3*4)+5"
   ]
  },
  {
   "cell_type": "code",
   "execution_count": 3,
   "id": "63083557-04e9-4ee1-9e6f-d6e352ebb540",
   "metadata": {},
   "outputs": [
    {
     "data": {
      "text/plain": [
       "3.3333333333333335"
      ]
     },
     "execution_count": 3,
     "metadata": {},
     "output_type": "execute_result"
    }
   ],
   "source": [
    "# This will convert 200 minutes to hours by diving by 60\n",
    "200/60"
   ]
  },
  {
   "cell_type": "markdown",
   "id": "ce1bb55d-210e-4ae6-bd8a-1f33e4dd2f4b",
   "metadata": {},
   "source": [
    "## Author\n",
    "Ryan Crooks"
   ]
  },
  {
   "cell_type": "code",
   "execution_count": null,
   "id": "03f654c5-7e1d-4e52-82ee-6bb2283c91fa",
   "metadata": {},
   "outputs": [],
   "source": []
  }
 ],
 "metadata": {
  "kernelspec": {
   "display_name": "Python 3 (ipykernel)",
   "language": "python",
   "name": "python3"
  },
  "language_info": {
   "codemirror_mode": {
    "name": "ipython",
    "version": 3
   },
   "file_extension": ".py",
   "mimetype": "text/x-python",
   "name": "python",
   "nbconvert_exporter": "python",
   "pygments_lexer": "ipython3",
   "version": "3.11.7"
  }
 },
 "nbformat": 4,
 "nbformat_minor": 5
}
